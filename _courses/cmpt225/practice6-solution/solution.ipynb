{
 "metadata": {
  "language_info": {
   "codemirror_mode": {
    "name": "ipython",
    "version": 3
   },
   "file_extension": ".py",
   "mimetype": "text/x-python",
   "name": "python",
   "nbconvert_exporter": "python",
   "pygments_lexer": "ipython3",
   "version": "3.7.7-final"
  },
  "orig_nbformat": 2,
  "kernelspec": {
   "name": "python3",
   "display_name": "Python 3.7.7 64-bit",
   "metadata": {
    "interpreter": {
     "hash": "0b5b52a8c12392ca4dca9537b5811c9631eb335b24e0917561c4632393a87584"
    }
   }
  }
 },
 "nbformat": 4,
 "nbformat_minor": 2,
 "cells": [
  {
   "source": [
    "# Question 1\n",
    "\n",
    "Implement the class BST with all its operations."
   ],
   "cell_type": "markdown",
   "metadata": {}
  },
  {
   "source": [
    "def print_tree(root):\n",
    "    def disp(root):\n",
    "        if root.right is None and root.left is None:\n",
    "            li = f'{root.data}'\n",
    "            return [li], len(li), 1, len(li)//2\n",
    "        if root.right is None:\n",
    "            lis, n, p, x = disp(root.left)\n",
    "            s = f'{root.data}'\n",
    "            nlis = [f\"{(x+1)*' '}{(n-x-1)*'_'}{s}\",f\"{x*' '}/{(n-x-1+len(s))*' '}\"]\n",
    "            return nlis + [f\"{li}{len(s)*' '}\" for li in lis], n+len(s), p+2, n+len(s)//2\n",
    "        if root.left is None:\n",
    "            lis, n, p, x = disp(root.right)\n",
    "            s = f'{root.data}'\n",
    "            nlis = [f\"{s}{x*'_'}{(n-x)*' '}\", f\"{(len(s)+x)*' '}\\\\{(n-x-1)*' '}\"]\n",
    "            return nlis + [f\"{len(s)*' '}{li}\" for li in lis], n+len(s), p+2, len(s)//2\n",
    "        left, n, p, x = disp(root.left)\n",
    "        right, m, q, y = disp(root.right)\n",
    "        s = f'{root.data}'\n",
    "        if p < q: left += [f\"{n*' '}\"]*(q-p)\n",
    "        elif q < p: right += [f\"{m*' '}\"]*(p-q)\n",
    "        nlis = [f\"{(x+1)*' '}{(n-x-1)*'_'}{s}{y*'_'}{(m-y)*' '}\",\n",
    "                f\"{x*' '}/{(n-x-1+len(s)+y)*' '}\\\\{(m-y-1)*' '}\"]\n",
    "        lis = nlis + [f\"{a}{len(s)*' '}{b}\" for a, b in zip(left, right)]\n",
    "        return lis, n+m+len(s), max(p,q)+2, n+len(s)//2\n",
    "    lis, *_ = disp(root)\n",
    "    for li in lis: print(li)\n",
    "\n",
    "class Node:\n",
    "    def __init__(self, data, parent=None):\n",
    "        self.data = data\n",
    "        self.parent = parent\n",
    "        self.left = None\n",
    "        self.right = None\n",
    "\n",
    "class BST:\n",
    "    def __init__(self, root):\n",
    "        self.root = root\n",
    "    \n",
    "    def find(self, data):\n",
    "        node = root\n",
    "        while node is not None and node.data != data:\n",
    "            if node.data > data:\n",
    "                node = node.left\n",
    "            else:\n",
    "                node = node.right\n",
    "        return node\n",
    "    \n",
    "    @staticmethod\n",
    "    def _add(root, data):  # recursive\n",
    "        if root is None:\n",
    "            return\n",
    "        \n",
    "        if data < root.data:\n",
    "            if root.left is None:\n",
    "                root.left = Node(data, parent=root)\n",
    "                return\n",
    "            BST._add(root.left, data)\n",
    "        else:\n",
    "            if root.right is None:\n",
    "                root.right = Node(data, parent=root)\n",
    "                return\n",
    "            BST._add(root.right, data)\n",
    "\n",
    "    def add(self, data):\n",
    "        BST._add(self.root, data)\n",
    "\n",
    "    def remove(self, data):\n",
    "        item = self.find(data)\n",
    "        if item is None:\n",
    "            return\n",
    "        if item.left is None and item.right is None:  # no children\n",
    "            if item.parent.left == item:\n",
    "                item.parent.left = None\n",
    "            else:\n",
    "                item.parent.right = None\n",
    "        elif item.left is None or item.right is None:  # one child\n",
    "            child = item.left if item.left is not None else item.right\n",
    "            if item.parent.left == item:\n",
    "                item.parent.left = child\n",
    "            else:\n",
    "                item.parent.right = child\n",
    "        else:  # two children\n",
    "            successor = item.right\n",
    "            while successor.left is not None:\n",
    "                successor = successor.left\n",
    "            if successor.parent.left == successor:\n",
    "                successor.parent.left = None\n",
    "            else:\n",
    "                successor.parent.right = None\n",
    "            item.data = successor.data\n",
    "\n",
    "root = Node(10)\n",
    "bst = BST(root)\n",
    "bst.add(5)\n",
    "bst.add(1)\n",
    "bst.add(7)\n",
    "bst.add(21)\n",
    "bst.add(16)\n",
    "bst.add(25)\n",
    "print_tree(root)\n",
    "\n",
    "bst.remove(21)\n",
    "print_tree(root)"
   ],
   "cell_type": "code",
   "metadata": {},
   "execution_count": 3,
   "outputs": [
    {
     "output_type": "stream",
     "name": "stdout",
     "text": [
      "  _10___   \n /      \\  \n 5     21_ \n/ \\   /   \\\n1 7  16  25\n  _10___ \n /      \\\n 5     25\n/ \\   /  \n1 7  16  \n"
     ]
    }
   ]
  },
  {
   "cell_type": "code",
   "execution_count": null,
   "metadata": {},
   "outputs": [],
   "source": []
  },
  {
   "cell_type": "code",
   "execution_count": null,
   "metadata": {},
   "outputs": [],
   "source": []
  }
 ]
}